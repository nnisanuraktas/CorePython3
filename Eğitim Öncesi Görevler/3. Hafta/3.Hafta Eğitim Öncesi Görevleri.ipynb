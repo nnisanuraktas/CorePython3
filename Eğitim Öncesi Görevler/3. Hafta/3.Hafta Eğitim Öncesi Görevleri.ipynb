{
  "cells": [
    {
      "cell_type": "markdown",
      "metadata": {
        "id": "tsD4YVAe_Te2"
      },
      "source": [
        "# Problem 1\n",
        "Bir sayının 7'ye bölünebilir olup olmadığını kontrol etmek \n",
        "için bir program yazın.\n",
        "\n",
        "İpucu: Mod operatörünü (%) kullanabilirsiniz."
      ]
    },
    {
      "cell_type": "code",
      "execution_count": 1,
      "metadata": {
        "id": "NGjvNwKx_Te7"
      },
      "outputs": [
        {
          "name": "stdout",
          "output_type": "stream",
          "text": [
            "14.0 7'ye bölünüyor\n"
          ]
        }
      ],
      "source": [
        "sayi=float(input(\"bir sayi yaziniz\"))\n",
        "if sayi%7 == 0:\n",
        "    print(f\"{sayi} 7'ye bölünüyor\")\n",
        "#buraya break yazılmalı mı\n",
        "else:\n",
        "    print(f\"{sayi} 7'ye bölünmüyor\")"
      ]
    },
    {
      "cell_type": "markdown",
      "metadata": {
        "id": "Kg3qiBAI_Te8"
      },
      "source": [
        "# Problem 2\n",
        "Kullanıcıdan vize ve final notu isteyin. Girilen vize notunun %40’ı ve \n",
        "girilen finalnotunun ise %60’ı alınarak yıl sonu not ortalaması hesaplanacaktır. \n",
        "\n",
        "Bu not ortalaması eğer 85 ve üzeri ise AA, \n",
        "\n",
        "75 ve 85 arasında ise BA, \n",
        "\n",
        "70 ve 75 arasında ise BB, \n",
        "\n",
        "65 ve 70 arasında ise CB,\n",
        "\n",
        "60 ve 65 arasında ise CC,\n",
        "\n",
        "55 ve 60 arasında ise DC,\n",
        "\n",
        "50 ve 55 arasında ise DD olarak hesaplanacaktır. \n",
        "\n",
        "Bu öğrencinin yıl sonu toplam notu 50’nin altında ise FF ile dersten kalacaktır. \n",
        "\n",
        "Ayrıca öğrencinin final notu 50’nin altında ise direkt FF ile kalacaktır."
      ]
    },
    {
      "cell_type": "code",
      "execution_count": 1,
      "metadata": {
        "id": "MXTtCxI1_Te8"
      },
      "outputs": [
        {
          "name": "stdout",
          "output_type": "stream",
          "text": [
            "Bu dersi BA harf notu ile geçtiniz\n"
          ]
        }
      ],
      "source": [
        "vizenot=int(input(\"vize notunuzu yazınız\"))\n",
        "finalnot=int(input(\"final notunuzu yazınız\"))\n",
        "donemnot=vizenot*40/100 + finalnot*60/100 \n",
        "if finalnot < 50:\n",
        "    print(\"final notunuz 50'nin altında olduğu için dersten kaldınız\")\n",
        "if donemnot < 50:\n",
        "    print(\"dersten kaldınız\")\n",
        "\n",
        "elif donemnot>=85:\n",
        "    print(\"bu dersi AA harf notu ile geçtiniz\")\n",
        "\n",
        "elif donemnot>=75 and donemnot<85:\n",
        "    print(\"Bu dersi BA harf notu ile geçtiniz\")\n",
        "\n",
        "elif donemnot>=70 and donemnot<75:\n",
        "    print(\"Bu dersi BB harf notu ile geçtiniz\")\n",
        "\n",
        "elif donemnot>=65 and donemnot<70:\n",
        "    print(\"Bu dersi CB harf notu ile geçtiniz\")\n",
        "\n",
        "elif donemnot>=60 and donemnot<65:\n",
        "    print(\"Bu dersi CC harf notu ile geçtiniz\")\n",
        "\n",
        "elif donemnot>=55 and donemnot<60:\n",
        "    print(\"Bu dersi DC harf notu ile geçtiniz\")\n",
        "    \n",
        "elif donemnot>=50 and donemnot<55:\n",
        "    print(\"Bu dersi DD harf notu ile geçtiniz\")\n",
        "\n"
      ]
    },
    {
      "cell_type": "code",
      "execution_count": 3,
      "metadata": {},
      "outputs": [
        {
          "name": "stdout",
          "output_type": "stream",
          "text": [
            "Bu dersi BA harf notu ile geçtiniz\n",
            "dersten kaldınız\n"
          ]
        }
      ],
      "source": [
        "#2. çözüm #çalışmıyor\n",
        "\n",
        "if finalnot > 50 and donemnot>=85:\n",
        "    print(\"bu dersi AA harf notu ile geçtiniz\")\n",
        "\n",
        "if finalnot > 50 and donemnot>=75 and donemnot<85:\n",
        "    print(\"Bu dersi BA harf notu ile geçtiniz\")\n",
        "\n",
        "if finalnot > 50 and donemnot>=70 and donemnot<75:\n",
        "    print(\"Bu dersi BB harf notu ile geçtiniz\")\n",
        "\n",
        "if finalnot > 50 and donemnot>=65 and donemnot<70:\n",
        "    print(\"Bu dersi CB harf notu ile geçtiniz\")\n",
        "\n",
        "if finalnot > 50 and donemnot>=60 and donemnot<65:\n",
        "    print(\"Bu dersi CC harf notu ile geçtiniz\")\n",
        "\n",
        "if finalnot > 50 and donemnot>=55 and donemnot<60:\n",
        "    print(\"Bu dersi DC harf notu ile geçtiniz\")\n",
        "    \n",
        "if finalnot > 50 and donemnot>=50 and donemnot<55:\n",
        "    print(\"Bu dersi DD harf notu ile geçtiniz\")\n",
        "\n",
        "else:\n",
        "    print(\"dersten kaldınız\")\n",
        "\n",
        "    #aynı anda zaten iki şart sağlamadığından hepsinde if yazdım"
      ]
    },
    {
      "cell_type": "markdown",
      "metadata": {
        "id": "tAoRYCTC_Te8"
      },
      "source": [
        "# Problem 3\n",
        "İki YetGenli Zirve'de karşılaşıyorlar. Birbirlerini tanımak için sorular soruyorlar. Birbirlerine yaşlarını soruyorlar. Akıllarına bir Python programı yazıp, yaşlarını ve isimlerini giriyorlar. Büyük olanın yaşını ekrana yazdıran programı yazıyorlar. Sende bu iki YetGenli'ye destek olmak ister misin?\n",
        "\n",
        "```\n",
        "Birinci YetGenlinin ismi: Ahmet\n",
        "Birinci YetGenlinin yaşı : 20\n",
        "İkinci YetGenlinin ismi: Mehmet\n",
        "İkinci YetGenlinin yaşı : 25\n",
        "Mehmet'in yaşı daha büyük ve yaşı 25'tir.\n",
        "```"
      ]
    },
    {
      "cell_type": "code",
      "execution_count": 7,
      "metadata": {
        "id": "bPjE8W0i_Te8"
      },
      "outputs": [
        {
          "name": "stdout",
          "output_type": "stream",
          "text": [
            "mehmet'in yaşı daha büyük ve yaşı 25'tir\n"
          ]
        }
      ],
      "source": [
        "isim1=input(\"birinci yetgenlinin ismini yazınız\")\n",
        "yas1= int(input(\"birinci yetgenlinin yaşını yazınız\"))\n",
        "isim2= input(\"ikinci yetgenlinin ismini yazınız\")\n",
        "yas2= int(input(\"birinci yetgenlinin yaşını yazınız\"))\n",
        "\n",
        "if yas1>yas2:\n",
        "    print(f\"{isim1}'in yaşı daha büyük ve yaşı {yas1}'tir\")\n",
        "\n",
        "if yas2>yas1:\n",
        "    print(f\"{isim2}'in yaşı daha büyük ve yaşı {yas2}'tir\")\n"
      ]
    },
    {
      "cell_type": "markdown",
      "metadata": {
        "id": "zBVv8Tyg_Te9"
      },
      "source": [
        "# Problem 4\n",
        "Pandemi döneminde AVM'lerde ateş ölçümü yapılıyor. AVM'ye giren kişinin ateş ölçümü 37.5 derecenin altında ise girişe izin veriliyor. 37.5 derecenin üstünde ise girişe izin verilmiyor. AVM'ye girişe izin verilip verilmediğini ekrana yazdıran bir program yazın.\n",
        "\n",
        "Program sonunda şöyle bir çıktı elde etmelisiniz:\n",
        "\n",
        "```\n",
        "Ateşiniz 37.5 derece. AVM'ye girebilirsin! Maske takmayı unutma!\n",
        "Ateşiniz 37.6 derece. AVM'ye giremezsin! Hemen evine dön!\n",
        "```"
      ]
    },
    {
      "cell_type": "code",
      "execution_count": 11,
      "metadata": {
        "id": "TSAXs8et_Te9"
      },
      "outputs": [
        {
          "name": "stdout",
          "output_type": "stream",
          "text": [
            "ateşiniz 37.7 derece, AVM'ye giremezsin! Hemen evine dön!\n"
          ]
        }
      ],
      "source": [
        "ates=float(input(\"ateşin kaç derece olduğunzu yazınız:\"))\n",
        "if ates<37.5:\n",
        "    print(f\"ateşiniz {ates} derece, AVM'ye girebilirsin! Maske takmayı unutma!\")\n",
        "else:\n",
        "    print(f\"ateşiniz {ates} derece, AVM'ye giremezsin! Hemen evine dön!\")"
      ]
    },
    {
      "cell_type": "markdown",
      "metadata": {
        "id": "6AEkZrDt_Te9"
      },
      "source": [
        "# Problem 5\n",
        "YetGen bir spor kulübüyle sponsorluk anlaşması yapıyor. Kulüp, sponsorluk anlaşmasına göre her YetGen liderinin beden kitle indeksini hesaplamak istiyor. Spor kulübü, beden kitle indeksini hesaplamak için YetGen Jump Python liderlerinden Berkcan ve Ahmet'i arıyor. Berkcan ve Ahmet, kulübe yardımcı olmak için bir Python programı yazıyorlar. Sende bu iki YetGen liderine destek olmak ister misin?\n",
        "\n",
        "Kullanıcıdan alınan boy ve kilo değerlerine göre beden kitle indeksini hesaplayın ve şu kurallara göre ekrana şu yazıları yazdırın.\n",
        "\n",
        "\n",
        "Beden Kitle İndeksi, kişinin ağırlığının (kg olarak) boyunun karesine (m olarak) bölünmesiyle hesaplanır.\n",
        "\n",
        "\n",
        "```\n",
        " BKİ 18.5'un altındaysa -------> Zayıf\n",
        "\n",
        " BKİ 18.5 ile 25 arasındaysa ------> Normal\n",
        "\n",
        " BKİ 25 ile 30 arasındaysa --------> Fazla Kilolu\n",
        "\n",
        " BKİ 30'un üstündeyse -------------> Obez\n",
        "```\n",
        "\n"
      ]
    },
    {
      "cell_type": "code",
      "execution_count": 18,
      "metadata": {
        "id": "t-XPI_u0_Te-"
      },
      "outputs": [
        {
          "name": "stdout",
          "output_type": "stream",
          "text": [
            "normal\n"
          ]
        }
      ],
      "source": [
        "#beden kitle indeksi = kg/m2\n",
        "\n",
        "boy=float(input(\"boyunuzu m cinsinden yazınız\"))\n",
        "agirlik=float(input(\"ağırlığınızı kg cinsinden yazınız\"))\n",
        "\n",
        "bki=agirlik/(boy**2)\n",
        "if bki<=18.5:\n",
        "    print(\"zayıf\")\n",
        "\n",
        "elif bki<=25 and bki>18.5:\n",
        "    print(\"normal\")\n",
        "    \n",
        "elif bki<=30 and bki>25:\n",
        "    print(\"fazla kilolu\")\n",
        "\n",
        "else:\n",
        "    print(\"obez\")"
      ]
    },
    {
      "cell_type": "markdown",
      "metadata": {
        "id": "oFsvQyaO_Te-"
      },
      "source": [
        "# Problem 6\n",
        "Kullanıcıdan isim, yaş ve eğitim bilgilerini isteyip ehliyet alabilme  durumunu kontrol ediniz. \n",
        "\n",
        "Ehliyet alma koşulu en az 18 yaşında ve eğitim durumu lise ya da üniversite olmalıdır. "
      ]
    },
    {
      "cell_type": "code",
      "execution_count": 6,
      "metadata": {
        "id": "Tu2mcgco_Te-"
      },
      "outputs": [
        {
          "ename": "NameError",
          "evalue": "name 'lise' is not defined",
          "output_type": "error",
          "traceback": [
            "\u001b[1;31m---------------------------------------------------------------------------\u001b[0m",
            "\u001b[1;31mNameError\u001b[0m                                 Traceback (most recent call last)",
            "Cell \u001b[1;32mIn[6], line 10\u001b[0m\n\u001b[0;32m      3\u001b[0m egitim\u001b[38;5;241m=\u001b[39m\u001b[38;5;28minput\u001b[39m(\u001b[38;5;124m\"\u001b[39m\u001b[38;5;124megitim durumunuzu yaziniz\u001b[39m\u001b[38;5;124m\"\u001b[39m)\n\u001b[0;32m      5\u001b[0m \u001b[38;5;124;03m\"\"\"\u001b[39;00m\n\u001b[0;32m      6\u001b[0m \u001b[38;5;124;03mif egitim=lise or if egitim=universite:\u001b[39;00m\n\u001b[0;32m      7\u001b[0m \u001b[38;5;124;03m    egitimdurumu=True\u001b[39;00m\n\u001b[0;32m      8\u001b[0m \u001b[38;5;124;03m\"\"\"\u001b[39;00m\n\u001b[1;32m---> 10\u001b[0m \u001b[38;5;28;01mif\u001b[39;00m yas\u001b[38;5;241m>\u001b[39m\u001b[38;5;241m=\u001b[39m\u001b[38;5;241m18\u001b[39m \u001b[38;5;129;01mand\u001b[39;00m egitim\u001b[38;5;241m==\u001b[39m\u001b[43mlise\u001b[49m:\n\u001b[0;32m     11\u001b[0m     \u001b[38;5;28mprint\u001b[39m(\u001b[38;5;124m\"\u001b[39m\u001b[38;5;124mehliyet alabilirsiniz\u001b[39m\u001b[38;5;124m\"\u001b[39m)\n\u001b[0;32m     12\u001b[0m \u001b[38;5;28;01melif\u001b[39;00m yas\u001b[38;5;241m>\u001b[39m\u001b[38;5;241m=\u001b[39m\u001b[38;5;241m18\u001b[39m \u001b[38;5;129;01mand\u001b[39;00m egitim\u001b[38;5;241m==\u001b[39muniversite:\n",
            "\u001b[1;31mNameError\u001b[0m: name 'lise' is not defined"
          ]
        }
      ],
      "source": [
        "isim=input(\"isminizi yazınız\")\n",
        "yas=int(input(\"yaşınızı yazınız\"))\n",
        "egitim=input(\"egitim durumunuzu yaziniz\")\n",
        "\n",
        "\"\"\"\n",
        "if egitim=lise or if egitim=universite:\n",
        "    egitimdurumu=True\n",
        "\"\"\"\n",
        "#egitim==lise kısmında hata var\n",
        "if yas>=18 and egitim==lise:\n",
        "    print(\"ehliyet alabilirsiniz\")\n",
        "elif yas>=18 and egitim==universite:\n",
        "    print(\"ehliyet alabilirsiniz\")\n",
        "else:\n",
        "    print(\"ehliyet alamazsınız\")"
      ]
    },
    {
      "cell_type": "markdown",
      "metadata": {
        "id": "eUkxVSAE_Te_"
      },
      "source": [
        "# Problem 7\n",
        "Bir yılın artık yıl olup olmadığını kontrol etmek için bir program yazın. \n",
        "Artık yıl kuralı:\n",
        "\n",
        "a) Eğer yılın son iki basamağı (00) ile bitmiyor ve yalnızca 4'e tam bölünüyorsa artık yıldır. Ya da, \n",
        "\n",
        "b) Eğer yıl 400'e tam bölünüyorsa artık yıldır.\n",
        "\n",
        "**Örneğin**\n",
        "```\n",
        "2017 artık yıl değildir.\n",
        "1900 artık yıl değildir\n",
        "2012 artık yıldır.\n",
        "2000 artık yıldır.\n",
        "```"
      ]
    },
    {
      "cell_type": "code",
      "execution_count": 4,
      "metadata": {
        "id": "4uWh8qUL_Te_"
      },
      "outputs": [
        {
          "name": "stdout",
          "output_type": "stream",
          "text": [
            "2016, artik yildir\n"
          ]
        }
      ],
      "source": [
        "yil=int(input(\"yılı yazınız\"))\n",
        "if yil%400==0:\n",
        "    print(f\"{yil}, artik yildir\")\n",
        "elif yil%100!=0 and yil%4==0:\n",
        "    print(f\"{yil}, artik yildir\")\n",
        "else:\n",
        "    print(f\"{yil} artik yil degildir\")"
      ]
    }
  ],
  "metadata": {
    "colab": {
      "provenance": []
    },
    "kernelspec": {
      "display_name": "Python 3.10.5 64-bit",
      "language": "python",
      "name": "python3"
    },
    "language_info": {
      "codemirror_mode": {
        "name": "ipython",
        "version": 3
      },
      "file_extension": ".py",
      "mimetype": "text/x-python",
      "name": "python",
      "nbconvert_exporter": "python",
      "pygments_lexer": "ipython3",
      "version": "3.12.3"
    },
    "orig_nbformat": 4,
    "vscode": {
      "interpreter": {
        "hash": "5026d2d6e7aaaaba093def813beadff083d8733e4a511af01735cbabd156995d"
      }
    }
  },
  "nbformat": 4,
  "nbformat_minor": 0
}
